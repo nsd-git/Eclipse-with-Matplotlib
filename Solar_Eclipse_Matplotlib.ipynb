{
  "nbformat": 4,
  "nbformat_minor": 0,
  "metadata": {
    "colab": {
      "provenance": []
    },
    "kernelspec": {
      "name": "python3",
      "display_name": "Python 3"
    },
    "language_info": {
      "name": "python"
    }
  },
  "cells": [
    {
      "cell_type": "markdown",
      "source": [
        "<h1>Solar Eclipse using matplotlib</h1>\n"
      ],
      "metadata": {
        "id": "V8Fdzyik5ufb"
      }
    },
    {
      "cell_type": "code",
      "source": [
        "import matplotlib.pyplot as plt\n",
        "import matplotlib.patches as patches\n",
        "\n",
        "# Create a new figure\n",
        "fig, ax = plt.subplots()\n",
        "\n",
        "# Create a circle patch to represent the sun\n",
        "sun = patches.Circle((0.5, 0.5), 0.4, color='yellow', zorder=1)\n",
        "\n",
        "# Create a circle patch to represent the moon\n",
        "moon = patches.Circle((0.65, 0.5), 0.3, color='black', zorder=2)\n",
        "\n",
        "# Add the patches to the axes\n",
        "ax.add_patch(sun)\n",
        "ax.add_patch(moon)\n",
        "\n",
        "# Set the limits of the plot\n",
        "ax.set_xlim(0, 1)\n",
        "ax.set_ylim(0, 1)\n",
        "\n",
        "# Equal aspect ratio ensures that circle is plotted as a circle.\n",
        "ax.set_aspect('equal')\n",
        "\n",
        "# Remove the axes for aesthetic purpose\n",
        "ax.axis('off')\n",
        "\n",
        "# Show the plot\n",
        "plt.title(\"Simulated Solar Eclipse\")\n",
        "plt.show()\n"
      ],
      "metadata": {
        "id": "0DhEeozQ8KWU"
      },
      "execution_count": 39,
      "outputs": []
    },
    {
      "cell_type": "code",
      "source": [
        "import numpy as np\n",
        "import matplotlib.pyplot as plt\n",
        "from matplotlib.animation import FuncAnimation\n",
        "import matplotlib\n",
        "\n",
        "# Use the 'Agg' backend when not running in an interactive environment\n",
        "matplotlib.use('Agg')\n",
        "# Create figure and axes\n",
        "fig, ax = plt.subplots()\n",
        "# Creating the Sun\n",
        "sun = plt.Circle((0.5, 0.5), 0.2, color='yellow', zorder=1)\n",
        "# Create a circle representing the Moon, initially positioned to the left of the Sun\n",
        "moon = plt.Circle((0, 0.5), 0.18, color='black', zorder=2)\n",
        "# Add circles to the axes\n",
        "ax.add_artist(sun)\n",
        "ax.add_artist(moon)\n",
        "# Set the limits and aspect of the plot\n",
        "ax.set_xlim(0, 1)\n",
        "ax.set_ylim(0, 1)\n",
        "ax.set_aspect('equal', 'box')\n",
        "ax.axis('off')\n",
        "# Function to update the position of the Moon\n",
        "def update(frame):\n",
        "    moon.center = (0.3 + frame/50, 0.5)\n",
        "    return moon,\n",
        "# Create animation\n",
        "ani = FuncAnimation(fig, update, frames=np.arange(0, 100, 0.1), blit=True)\n",
        "# Save the animation\n",
        "ani.save('solar_eclipse.gif', writer='imagemagick', fps=60)\n",
        "print(\"Animation saved as 'solar_eclipse.gif'\")\n"
      ],
      "metadata": {
        "colab": {
          "base_uri": "https://localhost:8080/"
        },
        "id": "Z8hE275L1C9F",
        "outputId": "2fdf2804-3445-4d4c-bbde-e2cf637b100e"
      },
      "execution_count": 31,
      "outputs": [
        {
          "output_type": "stream",
          "name": "stderr",
          "text": [
            "WARNING:matplotlib.animation:MovieWriter imagemagick unavailable; using Pillow instead.\n"
          ]
        },
        {
          "output_type": "stream",
          "name": "stdout",
          "text": [
            "Animation saved as 'solar_eclipse.gif'\n"
          ]
        }
      ]
    }
  ]
}